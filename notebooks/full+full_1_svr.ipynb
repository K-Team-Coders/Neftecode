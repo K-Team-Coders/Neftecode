{
 "cells": [
  {
   "cell_type": "code",
   "execution_count": 54,
   "id": "f031fb35",
   "metadata": {},
   "outputs": [],
   "source": [
    "import pandas as pd\n",
    "df2 = pd.read_csv('x_test.csv')\n",
    "df3 = pd.read_csv('x_train.csv')\n",
    "df4 = pd.read_csv('y_train.csv')"
   ]
  },
  {
   "cell_type": "code",
   "execution_count": 55,
   "id": "92010cb1",
   "metadata": {},
   "outputs": [],
   "source": [
    "def norm_y(y):\n",
    "    new_y = y.rename(columns={'id': 'id', 'Глубина  проникания иглы при 0 °С, [мм-1]': 'depth_0',\n",
    "                              'Глубина  проникания иглы при 25 °С, [мм-1]': 'depth_25',\n",
    "                              'Растяжимость  при температуре 0 °С, [см]': 'laxity',\n",
    "                              'Температура размягчения, [°С]': 'softening', 'Эластичность при 0 °С, [%]': 'elasticity'}) #Переименовали сттолбцы\n",
    "    y=y.drop(['id'], axis=1) # Удаляем столбец id\n",
    "    return new_y"
   ]
  },
  {
   "cell_type": "code",
   "execution_count": 56,
   "id": "12149921",
   "metadata": {},
   "outputs": [],
   "source": [
    "def norm_x(x): # Преобразование данных для обучения\n",
    "    x = x.rename(columns={'id': 'id', '% массы <Адгезионная добавка>': 'adhesive_add', '% массы <Базовый битум>': 'bitumen',\n",
    "       '% массы <Пластификатор>': 'plasticizer', '% массы <Полимер>': 'polymer',\n",
    "       '% массы <Сшивающая добавка>': 'cross-linking_add', 'Исходная игла при 25С <Базовый битум>': 'bitumen_25',\n",
    "       'Адгезионная добавка': 'Адгезионная добавка', 'Пластификатор': 'Пластификатор', 'Полимер': 'Полимер',\n",
    "       'Базовая пенетрация для расчёта пластификатора': 'basic_penetration',\n",
    "       'Расчёт рецептуры на глубину проникания иглы при 25': 'calculation_25'}) # Переименовали столбцы\n",
    "    x=x.drop(['id'], axis=1) # Удаляем столбец id\n",
    "    x_polymer = pd.get_dummies(x['Полимер']) # Преобразуем текстовые атрибуты в числовые значения для дальнейшей обработки\n",
    "    x_plasticizer =pd.get_dummies(x['Пластификатор']) # Преобразуем текстовые атрибуты в числовые значения для дальнейшей обработки\n",
    "    x_adhesion = pd.get_dummies(x['Адгезионная добавка']) # Преобразуем текстовые атрибуты в числовые значения для дальнейшей обработки\n",
    "    x = x.drop(['Полимер', 'Пластификатор', 'Адгезионная добавка'], axis=1) # Удаляем столбцы с текстовыми атрибутами\n",
    "    x = pd.concat([x, x_polymer, x_plasticizer, x_adhesion], axis=1) # Добавляем столбцы с преобразованными текстовыми атрибутами\n",
    "    return x"
   ]
  },
  {
   "cell_type": "code",
   "execution_count": 57,
   "id": "33bf4693",
   "metadata": {},
   "outputs": [],
   "source": [
    "from sklearn.metrics import mean_squared_error\n",
    "import numpy as np\n",
    "from sklearn.linear_model import LinearRegression\n",
    "from sklearn.ensemble import GradientBoostingRegressor\n",
    "from sklearn.svm import SVR\n",
    "import pickle\n",
    "import dill"
   ]
  },
  {
   "cell_type": "code",
   "execution_count": 58,
   "id": "39ac0542",
   "metadata": {},
   "outputs": [],
   "source": [
    "def lr1(df2, df3, df4, params):\n",
    "    y=norm_y(df4)\n",
    "    x=norm_x(df3) # Преобразуем данные для обучения\n",
    "    x_test = norm_x(pd.concat([df3, df2])) # объединяем данные для формирования одинаковой размерности\n",
    "    x_test = x_test[-10:] # выдёргиваем только преобразованный x_test.csv \n",
    "    \n",
    "    x_data_LinearRegression = x.loc[y[params].notnull()] # фичи для модели\n",
    "    y_LinearRegression = y[params].loc[y[params].notnull()] # значения для модели\n",
    "    reg = GradientBoostingRegressor(random_state=0).fit(x_data_LinearRegression, y_LinearRegression) # Обучаем модель\n",
    "    y_predict = reg.predict(x_test) # Предсказываем значения 1-го показателя качества\n",
    "    return y_predict, reg # Передаем предсказанные значения и модель"
   ]
  },
  {
   "cell_type": "code",
   "execution_count": 59,
   "id": "07a178db",
   "metadata": {},
   "outputs": [],
   "source": [
    "lr1, ml1 = lr1(df2, df3, df4, 'depth_0')"
   ]
  },
  {
   "cell_type": "code",
   "execution_count": 60,
   "id": "78274ac0",
   "metadata": {},
   "outputs": [],
   "source": [
    "def lr2(df2, df3, df4, params):\n",
    "    y=norm_y(df4)\n",
    "    x=norm_x(df3)\n",
    "    x_test = norm_x(pd.concat([df3, df2]))\n",
    "    x_test = x_test[-10:]\n",
    "    \n",
    "    x_data_LinearRegression = x.loc[y[params].notnull()]#признаки для модели\n",
    "    y_LinearRegression = y[params].loc[y[params].notnull()] #значения для модели\n",
    "    reg = LinearRegression().fit(x_data_LinearRegression, y_LinearRegression)\n",
    "    y_predict = reg.predict(x_test)\n",
    "    return y_predict, reg"
   ]
  },
  {
   "cell_type": "code",
   "execution_count": 61,
   "id": "0f25b287",
   "metadata": {},
   "outputs": [],
   "source": [
    "lr2, ml2 = lr2(df2, df3, df4, 'depth_25')"
   ]
  },
  {
   "cell_type": "code",
   "execution_count": 62,
   "id": "fa52e8ba",
   "metadata": {},
   "outputs": [],
   "source": [
    "def lr3(df2, df3, df4, params):\n",
    "    y=norm_y(df4)\n",
    "    x=norm_x(df3)\n",
    "    x_test = norm_x(pd.concat([df3, df2]))\n",
    "    x_test = x_test[-10:]\n",
    "    \n",
    "    x_data_LinearRegression = x.loc[y[params].notnull()]#признаки для модели\n",
    "    y_LinearRegression = y[params].loc[y[params].notnull()] #значения для модели\n",
    "    reg = GradientBoostingRegressor(random_state=0).fit(x_data_LinearRegression, y_LinearRegression)\n",
    "    y_predict = reg.predict(x_test)\n",
    "    return y_predict, reg"
   ]
  },
  {
   "cell_type": "code",
   "execution_count": 63,
   "id": "a0a17145",
   "metadata": {},
   "outputs": [],
   "source": [
    "lr3, ml3 = lr3(df2, df3, df4, 'laxity')"
   ]
  },
  {
   "cell_type": "code",
   "execution_count": 64,
   "id": "83d4844f",
   "metadata": {},
   "outputs": [],
   "source": [
    "def lr4(df2, df3, df4, params):\n",
    "    y=norm_y(df4)\n",
    "    x=norm_x(df3)\n",
    "    x_test = norm_x(pd.concat([df3, df2]))\n",
    "    x_test = x_test[-10:]\n",
    "    \n",
    "    x_data_LinearRegression = x.loc[y[params].notnull()]#признаки для модели\n",
    "    y_LinearRegression = y[params].loc[y[params].notnull()] #значения для модели\n",
    "    reg = GradientBoostingRegressor(random_state=0).fit(x_data_LinearRegression, y_LinearRegression)\n",
    "    y_predict = reg.predict(x_test)\n",
    "    return y_predict, reg"
   ]
  },
  {
   "cell_type": "code",
   "execution_count": 65,
   "id": "7db8f1ab",
   "metadata": {},
   "outputs": [],
   "source": [
    "lr4, ml4 = lr4(df2, df3, df4, 'softening')"
   ]
  },
  {
   "cell_type": "code",
   "execution_count": 66,
   "id": "9eac695f",
   "metadata": {},
   "outputs": [],
   "source": [
    "def lr5(df2, df3, df4, params):\n",
    "    y=norm_y(df4)\n",
    "    x=norm_x(df3)\n",
    "    x_test = norm_x(pd.concat([df3, df2]))\n",
    "    x_test = x_test[-10:]\n",
    "    \n",
    "    x_data_LinearRegression = x.loc[y[params].notnull()]#признаки для модели\n",
    "    y_LinearRegression = y[params].loc[y[params].notnull()] #значения для модели\n",
    "    reg = SVR(C=10, gamma=0.1).fit(x_data_LinearRegression, y_LinearRegression)\n",
    "    y_predict = reg.predict(x_test)\n",
    "    return y_predict, reg"
   ]
  },
  {
   "cell_type": "code",
   "execution_count": 67,
   "id": "e1109955",
   "metadata": {},
   "outputs": [],
   "source": [
    "lr5, ml5 = lr5(df2, df3, df4, 'elasticity')"
   ]
  },
  {
   "cell_type": "code",
   "execution_count": 68,
   "id": "37d00462",
   "metadata": {},
   "outputs": [],
   "source": [
    "id = [0,1,2,3,4,5,6,7,8,9]\n",
    "res1 = pd.DataFrame()\n",
    "res1['id'] = id\n",
    "res1['Глубина  проникания иглы при 0 °С, [мм-1]'] = lr1\n",
    "res1['Глубина  проникания иглы при 25 °С, [мм-1]'] = lr2\n",
    "res1['Растяжимость  при температуре 0 °С, [см]'] = lr3\n",
    "res1['Температура размягчения, [°С]'] = lr4\n",
    "res1['Эластичность при 0 °С, [%]'] = lr5"
   ]
  },
  {
   "cell_type": "code",
   "execution_count": 69,
   "id": "111544c5",
   "metadata": {},
   "outputs": [
    {
     "data": {
      "text/html": [
       "<div>\n",
       "<style scoped>\n",
       "    .dataframe tbody tr th:only-of-type {\n",
       "        vertical-align: middle;\n",
       "    }\n",
       "\n",
       "    .dataframe tbody tr th {\n",
       "        vertical-align: top;\n",
       "    }\n",
       "\n",
       "    .dataframe thead th {\n",
       "        text-align: right;\n",
       "    }\n",
       "</style>\n",
       "<table border=\"1\" class=\"dataframe\">\n",
       "  <thead>\n",
       "    <tr style=\"text-align: right;\">\n",
       "      <th></th>\n",
       "      <th>id</th>\n",
       "      <th>Глубина  проникания иглы при 0 °С, [мм-1]</th>\n",
       "      <th>Глубина  проникания иглы при 25 °С, [мм-1]</th>\n",
       "      <th>Растяжимость  при температуре 0 °С, [см]</th>\n",
       "      <th>Температура размягчения, [°С]</th>\n",
       "      <th>Эластичность при 0 °С, [%]</th>\n",
       "    </tr>\n",
       "  </thead>\n",
       "  <tbody>\n",
       "    <tr>\n",
       "      <th>0</th>\n",
       "      <td>0</td>\n",
       "      <td>29.655014</td>\n",
       "      <td>70.310280</td>\n",
       "      <td>15.559729</td>\n",
       "      <td>61.318046</td>\n",
       "      <td>72.354338</td>\n",
       "    </tr>\n",
       "    <tr>\n",
       "      <th>1</th>\n",
       "      <td>1</td>\n",
       "      <td>33.494292</td>\n",
       "      <td>105.313928</td>\n",
       "      <td>46.005585</td>\n",
       "      <td>59.020578</td>\n",
       "      <td>75.572623</td>\n",
       "    </tr>\n",
       "    <tr>\n",
       "      <th>2</th>\n",
       "      <td>2</td>\n",
       "      <td>32.889541</td>\n",
       "      <td>65.207972</td>\n",
       "      <td>31.024731</td>\n",
       "      <td>70.379028</td>\n",
       "      <td>73.674706</td>\n",
       "    </tr>\n",
       "    <tr>\n",
       "      <th>3</th>\n",
       "      <td>3</td>\n",
       "      <td>32.407595</td>\n",
       "      <td>83.283071</td>\n",
       "      <td>43.872450</td>\n",
       "      <td>69.440191</td>\n",
       "      <td>75.571972</td>\n",
       "    </tr>\n",
       "    <tr>\n",
       "      <th>4</th>\n",
       "      <td>4</td>\n",
       "      <td>32.458536</td>\n",
       "      <td>68.336876</td>\n",
       "      <td>30.860426</td>\n",
       "      <td>74.110536</td>\n",
       "      <td>74.731652</td>\n",
       "    </tr>\n",
       "    <tr>\n",
       "      <th>5</th>\n",
       "      <td>5</td>\n",
       "      <td>31.991640</td>\n",
       "      <td>60.163738</td>\n",
       "      <td>24.214513</td>\n",
       "      <td>75.740703</td>\n",
       "      <td>75.077443</td>\n",
       "    </tr>\n",
       "    <tr>\n",
       "      <th>6</th>\n",
       "      <td>6</td>\n",
       "      <td>30.238297</td>\n",
       "      <td>61.126375</td>\n",
       "      <td>19.665540</td>\n",
       "      <td>75.779686</td>\n",
       "      <td>70.081767</td>\n",
       "    </tr>\n",
       "    <tr>\n",
       "      <th>7</th>\n",
       "      <td>7</td>\n",
       "      <td>32.765147</td>\n",
       "      <td>60.314820</td>\n",
       "      <td>24.275503</td>\n",
       "      <td>63.982477</td>\n",
       "      <td>76.282189</td>\n",
       "    </tr>\n",
       "    <tr>\n",
       "      <th>8</th>\n",
       "      <td>8</td>\n",
       "      <td>36.418071</td>\n",
       "      <td>96.280451</td>\n",
       "      <td>31.774872</td>\n",
       "      <td>57.910623</td>\n",
       "      <td>75.317536</td>\n",
       "    </tr>\n",
       "    <tr>\n",
       "      <th>9</th>\n",
       "      <td>9</td>\n",
       "      <td>31.713522</td>\n",
       "      <td>66.075693</td>\n",
       "      <td>22.472624</td>\n",
       "      <td>63.666113</td>\n",
       "      <td>76.561643</td>\n",
       "    </tr>\n",
       "  </tbody>\n",
       "</table>\n",
       "</div>"
      ],
      "text/plain": [
       "   id  Глубина  проникания иглы при 0 °С, [мм-1]  \\\n",
       "0   0                                  29.655014   \n",
       "1   1                                  33.494292   \n",
       "2   2                                  32.889541   \n",
       "3   3                                  32.407595   \n",
       "4   4                                  32.458536   \n",
       "5   5                                  31.991640   \n",
       "6   6                                  30.238297   \n",
       "7   7                                  32.765147   \n",
       "8   8                                  36.418071   \n",
       "9   9                                  31.713522   \n",
       "\n",
       "   Глубина  проникания иглы при 25 °С, [мм-1]  \\\n",
       "0                                   70.310280   \n",
       "1                                  105.313928   \n",
       "2                                   65.207972   \n",
       "3                                   83.283071   \n",
       "4                                   68.336876   \n",
       "5                                   60.163738   \n",
       "6                                   61.126375   \n",
       "7                                   60.314820   \n",
       "8                                   96.280451   \n",
       "9                                   66.075693   \n",
       "\n",
       "   Растяжимость  при температуре 0 °С, [см]  Температура размягчения, [°С]  \\\n",
       "0                                 15.559729                      61.318046   \n",
       "1                                 46.005585                      59.020578   \n",
       "2                                 31.024731                      70.379028   \n",
       "3                                 43.872450                      69.440191   \n",
       "4                                 30.860426                      74.110536   \n",
       "5                                 24.214513                      75.740703   \n",
       "6                                 19.665540                      75.779686   \n",
       "7                                 24.275503                      63.982477   \n",
       "8                                 31.774872                      57.910623   \n",
       "9                                 22.472624                      63.666113   \n",
       "\n",
       "   Эластичность при 0 °С, [%]  \n",
       "0                   72.354338  \n",
       "1                   75.572623  \n",
       "2                   73.674706  \n",
       "3                   75.571972  \n",
       "4                   74.731652  \n",
       "5                   75.077443  \n",
       "6                   70.081767  \n",
       "7                   76.282189  \n",
       "8                   75.317536  \n",
       "9                   76.561643  "
      ]
     },
     "execution_count": 69,
     "metadata": {},
     "output_type": "execute_result"
    }
   ],
   "source": [
    "res1"
   ]
  },
  {
   "cell_type": "code",
   "execution_count": 70,
   "id": "d83d6eec",
   "metadata": {},
   "outputs": [],
   "source": [
    "res1.to_csv(f'full_supersvr_svr5.csv', index=False) # Сохраняем в файл"
   ]
  },
  {
   "cell_type": "code",
   "execution_count": 71,
   "id": "bf8edd3a",
   "metadata": {},
   "outputs": [],
   "source": [
    "# Сохраняем обученные модели\n",
    "with open('ml1.pkl', 'wb') as f:\n",
    "    dill.dump(ml1, f, pickle.HIGHEST_PROTOCOL)\n",
    "with open('ml2.pkl', 'wb') as f:\n",
    "    dill.dump(ml2, f, pickle.HIGHEST_PROTOCOL)\n",
    "with open('ml3.pkl', 'wb') as f:\n",
    "    dill.dump(ml3, f, pickle.HIGHEST_PROTOCOL)\n",
    "with open('ml4.pkl', 'wb') as f:\n",
    "    dill.dump(ml4, f, pickle.HIGHEST_PROTOCOL)\n",
    "with open('ml5.pkl', 'wb') as f:\n",
    "    dill.dump(ml5, f, pickle.HIGHEST_PROTOCOL)"
   ]
  }
 ],
 "metadata": {
  "kernelspec": {
   "display_name": "Python 3 (ipykernel)",
   "language": "python",
   "name": "python3"
  },
  "language_info": {
   "codemirror_mode": {
    "name": "ipython",
    "version": 3
   },
   "file_extension": ".py",
   "mimetype": "text/x-python",
   "name": "python",
   "nbconvert_exporter": "python",
   "pygments_lexer": "ipython3",
   "version": "3.9.7"
  }
 },
 "nbformat": 4,
 "nbformat_minor": 5
}
